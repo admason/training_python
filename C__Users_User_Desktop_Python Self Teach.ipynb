{
 "cells": [
  {
   "cell_type": "code",
   "execution_count": 2,
   "metadata": {},
   "outputs": [
    {
     "data": {
      "text/plain": [
       "'Last night,Thomas scored 33 points.'"
      ]
     },
     "execution_count": 2,
     "metadata": {},
     "output_type": "execute_result"
    }
   ],
   "source": [
    "player='Thomas'\n",
    "points=33\n",
    "'Last night,'+player+' scored '+str(points)+' points.'"
   ]
  },
  {
   "cell_type": "code",
   "execution_count": 33,
   "metadata": {},
   "outputs": [
    {
     "data": {
      "text/plain": [
       "'last night,Thomas scored 33.'"
      ]
     },
     "execution_count": 33,
     "metadata": {},
     "output_type": "execute_result"
    }
   ],
   "source": [
    "f'last night,{player} scored {points}.'"
   ]
  },
  {
   "cell_type": "code",
   "execution_count": 31,
   "metadata": {},
   "outputs": [
    {
     "data": {
      "text/plain": [
       "'Dear Sir, I wish to take this opportunity to apply for the the position of Lion Tamer at the Circus. I have been a Juggler for           24 years'"
      ]
     },
     "execution_count": 31,
     "metadata": {},
     "output_type": "execute_result"
    }
   ],
   "source": [
    "addressee='Sir'\n",
    "job='Lion Tamer'\n",
    "location='Circus'\n",
    "prevjob='Juggler'\n",
    "experience=24\n",
    "\n",
    "'Dear '+addressee+', I wish to take this opportunity to apply for the the position of '+job+' at the '+location+'. I have been a '+prevjob+' for           '+str(experience)+' years'"
   ]
  },
  {
   "cell_type": "code",
   "execution_count": 49,
   "metadata": {},
   "outputs": [
    {
     "data": {
      "text/plain": [
       "'DearSir, I wish to take this opportunity to apply for the position of Lion Tamer at Circus. I have been a Juggler for 24 years'"
      ]
     },
     "execution_count": 49,
     "metadata": {},
     "output_type": "execute_result"
    }
   ],
   "source": [
    "f'Dear{addressee}, I wish to take this opportunity to apply for the position of {job} at {location}. I have been a {prevjob} for {experience} years'"
   ]
  },
  {
   "cell_type": "code",
   "execution_count": 50,
   "metadata": {},
   "outputs": [
    {
     "name": "stdout",
     "output_type": "stream",
     "text": [
      "I'm going to inject something here.\n"
     ]
    }
   ],
   "source": [
    "print(\"I'm going to inject %s here.\" %'something')"
   ]
  },
  {
   "cell_type": "code",
   "execution_count": 51,
   "metadata": {},
   "outputs": [
    {
     "name": "stdout",
     "output_type": "stream",
     "text": [
      "There was once a tiny turtle who looked very happy and swam all day.\n"
     ]
    }
   ],
   "source": [
    "print(\"There was once a %s turtle who looked very %s and %s all day.\" %('tiny','happy','swam'))"
   ]
  },
  {
   "cell_type": "code",
   "execution_count": 48,
   "metadata": {},
   "outputs": [
    {
     "name": "stdout",
     "output_type": "stream",
     "text": [
      "Dear Sir I wish to apply for the position of Lion Tamer at the Circus. I have been a Juggler for 33 years.\n"
     ]
    }
   ],
   "source": [
    "print(\"Dear %s I wish to apply for the position of %s at the %s. I have been a %s for %s years.\" %('Sir','Lion Tamer','Circus','Juggler','33'))"
   ]
  },
  {
   "cell_type": "code",
   "execution_count": 60,
   "metadata": {},
   "outputs": [
    {
     "name": "stdout",
     "output_type": "stream",
     "text": [
      "Dear Sir, I wish to apply for the position of Lion Tamer at the Circus. I have been a Juggler for 22 years.\n"
     ]
    }
   ],
   "source": [
    "v='Sir'\n",
    "w='Lion Tamer'\n",
    "x='Circus'\n",
    "y='Juggler'\n",
    "z=22\n",
    "print(\"Dear %s, I wish to apply for the position of %s at the %s. I have been a %s for %s years.\"           %(v,w,x,y,z))"
   ]
  },
  {
   "cell_type": "code",
   "execution_count": 62,
   "metadata": {},
   "outputs": [
    {
     "name": "stdout",
     "output_type": "stream",
     "text": [
      "I once caught a fish this \tbig.\n",
      "I once caught a fish 'this \\tbig'.\n"
     ]
    }
   ],
   "source": [
    "print('I once caught a fish %s.' %'this \\tbig')\n",
    "print('I once caught a fish %r.' %'this \\tbig')"
   ]
  },
  {
   "cell_type": "code",
   "execution_count": 63,
   "metadata": {},
   "outputs": [
    {
     "name": "stdout",
     "output_type": "stream",
     "text": [
      "One time we ran so \tfar.\n"
     ]
    }
   ],
   "source": [
    "print('One time we ran %s.'%'so \\tfar')"
   ]
  },
  {
   "cell_type": "code",
   "execution_count": 64,
   "metadata": {},
   "outputs": [
    {
     "name": "stdout",
     "output_type": "stream",
     "text": [
      "One time we ran 'this \\tfar'\n"
     ]
    }
   ],
   "source": [
    "print('One time we ran %r'%'this \\tfar')"
   ]
  },
  {
   "cell_type": "code",
   "execution_count": 69,
   "metadata": {},
   "outputs": [
    {
     "name": "stdout",
     "output_type": "stream",
     "text": [
      "Today we ate 31.45 kebabs\n"
     ]
    }
   ],
   "source": [
    "print('Today we ate %s kebabs'%31.45)"
   ]
  },
  {
   "cell_type": "code",
   "execution_count": 70,
   "metadata": {},
   "outputs": [
    {
     "name": "stdout",
     "output_type": "stream",
     "text": [
      "Today we ate 31 kebabs\n"
     ]
    }
   ],
   "source": [
    "print('Today we ate %d kebabs'%31.45)"
   ]
  },
  {
   "cell_type": "code",
   "execution_count": 71,
   "metadata": {},
   "outputs": [
    {
     "name": "stdout",
     "output_type": "stream",
     "text": [
      "Floating point numbers: 13.14\n"
     ]
    }
   ],
   "source": [
    "print('Floating point numbers: %5.2f'%(13.144))"
   ]
  },
  {
   "cell_type": "code",
   "execution_count": 78,
   "metadata": {},
   "outputs": [
    {
     "name": "stdout",
     "output_type": "stream",
     "text": [
      "Floating point numbers:                13.1440000\n"
     ]
    }
   ],
   "source": [
    "print('Floating point numbers: %25.7f'%13.144)"
   ]
  },
  {
   "cell_type": "code",
   "execution_count": null,
   "metadata": {},
   "outputs": [],
   "source": []
  }
 ],
 "metadata": {
  "kernelspec": {
   "display_name": "Python 3",
   "language": "python",
   "name": "python3"
  },
  "language_info": {
   "codemirror_mode": {
    "name": "ipython",
    "version": 3
   },
   "file_extension": ".py",
   "mimetype": "text/x-python",
   "name": "python",
   "nbconvert_exporter": "python",
   "pygments_lexer": "ipython3",
   "version": "3.7.1"
  }
 },
 "nbformat": 4,
 "nbformat_minor": 2
}
